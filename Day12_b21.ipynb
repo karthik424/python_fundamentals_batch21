{
 "cells": [
  {
   "cell_type": "code",
   "execution_count": null,
   "metadata": {},
   "outputs": [],
   "source": [
    "#continuation with dictionaries\n",
    "#looping with dictionary\n"
   ]
  },
  {
   "cell_type": "code",
   "execution_count": 9,
   "metadata": {},
   "outputs": [
    {
     "name": "stdout",
     "output_type": "stream",
     "text": [
      "{'user': 'codetraining', 'fname': 'code', 'lname': 'training', 'pwd': 12345}\n"
     ]
    }
   ],
   "source": [
    "user_account={'user':'codetraining','fname':'code','lname':'training','pwd':12345}\n",
    "print(user_account)\n"
   ]
  },
  {
   "cell_type": "code",
   "execution_count": 10,
   "metadata": {},
   "outputs": [
    {
     "name": "stdout",
     "output_type": "stream",
     "text": [
      "user\n",
      "codetraining\n",
      "fname\n",
      "code\n",
      "lname\n",
      "training\n",
      "pwd\n",
      "12345\n"
     ]
    }
   ],
   "source": [
    "for x,y in user_account.items():\n",
    "    print(x)\n",
    "    print(y)"
   ]
  },
  {
   "cell_type": "code",
   "execution_count": 15,
   "metadata": {},
   "outputs": [
    {
     "name": "stdout",
     "output_type": "stream",
     "text": [
      "key:user\n",
      "value:codetraining\n",
      "\n",
      "key:fname\n",
      "value:code\n",
      "\n",
      "key:lname\n",
      "value:training\n",
      "\n",
      "key:pwd\n",
      "value:12345\n",
      "\n"
     ]
    }
   ],
   "source": [
    "for x,y in user_account.items():\n",
    "    print(f\"key:{x}\")\n",
    "    print(f\"value:{y}\\n\")"
   ]
  },
  {
   "cell_type": "code",
   "execution_count": 17,
   "metadata": {},
   "outputs": [
    {
     "name": "stdout",
     "output_type": "stream",
     "text": [
      "user\n",
      "fname\n",
      "lname\n",
      "pwd\n"
     ]
    }
   ],
   "source": [
    "for x in user_account.keys():\n",
    "    print(x)"
   ]
  },
  {
   "cell_type": "markdown",
   "metadata": {},
   "source": []
  },
  {
   "cell_type": "code",
   "execution_count": 18,
   "metadata": {},
   "outputs": [],
   "source": [
    "students=['yasmeen','fareena','sushmitha','ramya','shekar']"
   ]
  },
  {
   "cell_type": "code",
   "execution_count": 19,
   "metadata": {},
   "outputs": [
    {
     "name": "stdout",
     "output_type": "stream",
     "text": [
      "Yasmeen\n",
      "Fareena\n",
      "Sushmitha\n",
      "Ramya\n",
      "SHEKAR\n"
     ]
    }
   ],
   "source": [
    "for x in students:\n",
    "    if x=='shekar':\n",
    "        print(x.upper())\n",
    "    else:\n",
    "        print(x.title())\n",
    "        "
   ]
  }
 ],
 "metadata": {
  "kernelspec": {
   "display_name": "Python 3",
   "language": "python",
   "name": "python3"
  },
  "language_info": {
   "codemirror_mode": {
    "name": "ipython",
    "version": 3
   },
   "file_extension": ".py",
   "mimetype": "text/x-python",
   "name": "python",
   "nbconvert_exporter": "python",
   "pygments_lexer": "ipython3",
   "version": "3.7.4"
  }
 },
 "nbformat": 4,
 "nbformat_minor": 2
}
